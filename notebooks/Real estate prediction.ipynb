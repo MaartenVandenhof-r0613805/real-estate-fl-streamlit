{
 "cells": [
  {
   "cell_type": "markdown",
   "metadata": {},
   "source": [
    "## Import libraries"
   ]
  },
  {
   "cell_type": "code",
   "execution_count": 382,
   "metadata": {},
   "outputs": [],
   "source": [
    "import pandas as pd\n",
    "from sklearn import tree\n",
    "from sklearn.model_selection import train_test_split, cross_val_score, GridSearchCV\n",
    "from sklearn.linear_model import Lasso, Ridge, LogisticRegression\n",
    "from sklearn.metrics import mean_squared_error\n",
    "from sklearn.neighbors import KNeighborsRegressor\n",
    "import numpy as np\n",
    "import matplotlib.pyplot as plt\n",
    "import pickle"
   ]
  },
  {
   "cell_type": "markdown",
   "metadata": {},
   "source": [
    "## Import data"
   ]
  },
  {
   "cell_type": "code",
   "execution_count": 5,
   "metadata": {},
   "outputs": [],
   "source": [
    "mean_interest = pd.read_csv(\"E:/Projects/real-estate-analysis/data/mean_interest_q.csv\")\n",
    "requests_vl = pd.read_csv(\"E:/Projects/real-estate-analysis/data/permits_reg.csv\")\n",
    "prices = pd.read_csv(\"E:/Projects/real-estate-analysis/data/annual_prices.csv\")"
   ]
  },
  {
   "cell_type": "code",
   "execution_count": 18,
   "metadata": {},
   "outputs": [
    {
     "data": {
      "text/plain": [
       "array(['Huizen met 2 of 3 gevels (gesloten + halfopen bebouwing)',\n",
       "       'Huizen met 4 of meer gevels (open bebouwing)',\n",
       "       'Alle huizen met 2, 3, 4 of meer gevels (excl. appartementen)',\n",
       "       'Appartementen'], dtype=object)"
      ]
     },
     "execution_count": 18,
     "metadata": {},
     "output_type": "execute_result"
    }
   ],
   "source": [
    "prices[\"CD_TYPE_NL\"].unique()"
   ]
  },
  {
   "cell_type": "code",
   "execution_count": 29,
   "metadata": {},
   "outputs": [
    {
     "data": {
      "text/html": [
       "<div>\n",
       "<style scoped>\n",
       "    .dataframe tbody tr th:only-of-type {\n",
       "        vertical-align: middle;\n",
       "    }\n",
       "\n",
       "    .dataframe tbody tr th {\n",
       "        vertical-align: top;\n",
       "    }\n",
       "\n",
       "    .dataframe thead th {\n",
       "        text-align: right;\n",
       "    }\n",
       "</style>\n",
       "<table border=\"1\" class=\"dataframe\">\n",
       "  <thead>\n",
       "    <tr style=\"text-align: right;\">\n",
       "      <th></th>\n",
       "      <th>CD_YEAR</th>\n",
       "      <th>CD_TYPE_NL</th>\n",
       "      <th>CD_TYPE_FR</th>\n",
       "      <th>CD_REFNIS</th>\n",
       "      <th>CD_REFNIS_NL</th>\n",
       "      <th>CD_REFNIS_FR</th>\n",
       "      <th>CD_PERIOD</th>\n",
       "      <th>CD_CLASS_SURFACE</th>\n",
       "      <th>MS_TOTAL_TRANSACTIONS</th>\n",
       "      <th>MS_P_25</th>\n",
       "      <th>MS_P_50_median</th>\n",
       "      <th>MS_P_75</th>\n",
       "      <th>CD_niveau_refnis</th>\n",
       "      <th>year:period</th>\n",
       "    </tr>\n",
       "  </thead>\n",
       "  <tbody>\n",
       "    <tr>\n",
       "      <th>13405</th>\n",
       "      <td>2010</td>\n",
       "      <td>Appartementen</td>\n",
       "      <td>Appartements</td>\n",
       "      <td>2000</td>\n",
       "      <td>VLAAMS GEWEST</td>\n",
       "      <td>REGION FLAMANDE</td>\n",
       "      <td>Q1</td>\n",
       "      <td>totaal / total</td>\n",
       "      <td>3623.0</td>\n",
       "      <td>110000.0</td>\n",
       "      <td>148000.0</td>\n",
       "      <td>192250.0</td>\n",
       "      <td>2</td>\n",
       "      <td>2010:Q1</td>\n",
       "    </tr>\n",
       "    <tr>\n",
       "      <th>13406</th>\n",
       "      <td>2010</td>\n",
       "      <td>Appartementen</td>\n",
       "      <td>Appartements</td>\n",
       "      <td>2000</td>\n",
       "      <td>VLAAMS GEWEST</td>\n",
       "      <td>REGION FLAMANDE</td>\n",
       "      <td>Q2</td>\n",
       "      <td>totaal / total</td>\n",
       "      <td>4152.0</td>\n",
       "      <td>115000.0</td>\n",
       "      <td>150000.0</td>\n",
       "      <td>195000.0</td>\n",
       "      <td>2</td>\n",
       "      <td>2010:Q2</td>\n",
       "    </tr>\n",
       "    <tr>\n",
       "      <th>13407</th>\n",
       "      <td>2010</td>\n",
       "      <td>Appartementen</td>\n",
       "      <td>Appartements</td>\n",
       "      <td>2000</td>\n",
       "      <td>VLAAMS GEWEST</td>\n",
       "      <td>REGION FLAMANDE</td>\n",
       "      <td>Q3</td>\n",
       "      <td>totaal / total</td>\n",
       "      <td>3897.0</td>\n",
       "      <td>116000.0</td>\n",
       "      <td>151480.0</td>\n",
       "      <td>195000.0</td>\n",
       "      <td>2</td>\n",
       "      <td>2010:Q3</td>\n",
       "    </tr>\n",
       "    <tr>\n",
       "      <th>13408</th>\n",
       "      <td>2010</td>\n",
       "      <td>Appartementen</td>\n",
       "      <td>Appartements</td>\n",
       "      <td>2000</td>\n",
       "      <td>VLAAMS GEWEST</td>\n",
       "      <td>REGION FLAMANDE</td>\n",
       "      <td>Q4</td>\n",
       "      <td>totaal / total</td>\n",
       "      <td>4150.0</td>\n",
       "      <td>115000.0</td>\n",
       "      <td>155000.0</td>\n",
       "      <td>205000.0</td>\n",
       "      <td>2</td>\n",
       "      <td>2010:Q4</td>\n",
       "    </tr>\n",
       "    <tr>\n",
       "      <th>31269</th>\n",
       "      <td>2011</td>\n",
       "      <td>Appartementen</td>\n",
       "      <td>Appartements</td>\n",
       "      <td>2000</td>\n",
       "      <td>VLAAMS GEWEST</td>\n",
       "      <td>REGION FLAMANDE</td>\n",
       "      <td>Q1</td>\n",
       "      <td>totaal / total</td>\n",
       "      <td>4044.0</td>\n",
       "      <td>115000.0</td>\n",
       "      <td>152900.0</td>\n",
       "      <td>200000.0</td>\n",
       "      <td>2</td>\n",
       "      <td>2011:Q1</td>\n",
       "    </tr>\n",
       "  </tbody>\n",
       "</table>\n",
       "</div>"
      ],
      "text/plain": [
       "       CD_YEAR     CD_TYPE_NL    CD_TYPE_FR  CD_REFNIS   CD_REFNIS_NL  \\\n",
       "13405     2010  Appartementen  Appartements       2000  VLAAMS GEWEST   \n",
       "13406     2010  Appartementen  Appartements       2000  VLAAMS GEWEST   \n",
       "13407     2010  Appartementen  Appartements       2000  VLAAMS GEWEST   \n",
       "13408     2010  Appartementen  Appartements       2000  VLAAMS GEWEST   \n",
       "31269     2011  Appartementen  Appartements       2000  VLAAMS GEWEST   \n",
       "\n",
       "          CD_REFNIS_FR CD_PERIOD CD_CLASS_SURFACE  MS_TOTAL_TRANSACTIONS  \\\n",
       "13405  REGION FLAMANDE        Q1   totaal / total                 3623.0   \n",
       "13406  REGION FLAMANDE        Q2   totaal / total                 4152.0   \n",
       "13407  REGION FLAMANDE        Q3   totaal / total                 3897.0   \n",
       "13408  REGION FLAMANDE        Q4   totaal / total                 4150.0   \n",
       "31269  REGION FLAMANDE        Q1   totaal / total                 4044.0   \n",
       "\n",
       "        MS_P_25  MS_P_50_median   MS_P_75  CD_niveau_refnis year:period  \n",
       "13405  110000.0        148000.0  192250.0                 2     2010:Q1  \n",
       "13406  115000.0        150000.0  195000.0                 2     2010:Q2  \n",
       "13407  116000.0        151480.0  195000.0                 2     2010:Q3  \n",
       "13408  115000.0        155000.0  205000.0                 2     2010:Q4  \n",
       "31269  115000.0        152900.0  200000.0                 2     2011:Q1  "
      ]
     },
     "execution_count": 29,
     "metadata": {},
     "output_type": "execute_result"
    }
   ],
   "source": [
    "prices[(prices[\"CD_TYPE_NL\"] == \"Appartementen\") & \n",
    "       (prices[\"CD_PERIOD\"].isin([\"Q1\", \"Q2\", \"Q3\", \"Q4\"])) &\n",
    "       (prices[\"CD_REFNIS_NL\"] == \"VLAAMS GEWEST\")].head()"
   ]
  },
  {
   "cell_type": "code",
   "execution_count": 90,
   "metadata": {},
   "outputs": [],
   "source": [
    "# Define useful functions\n",
    "def calc_price_lvl(current, prev):\n",
    "    '''returns the price incrase or decrease in percentage'''\n",
    "    return (current / prev * 100 - 100)"
   ]
  },
  {
   "cell_type": "code",
   "execution_count": 150,
   "metadata": {},
   "outputs": [
    {
     "data": {
      "text/html": [
       "<div>\n",
       "<style scoped>\n",
       "    .dataframe tbody tr th:only-of-type {\n",
       "        vertical-align: middle;\n",
       "    }\n",
       "\n",
       "    .dataframe tbody tr th {\n",
       "        vertical-align: top;\n",
       "    }\n",
       "\n",
       "    .dataframe thead th {\n",
       "        text-align: right;\n",
       "    }\n",
       "</style>\n",
       "<table border=\"1\" class=\"dataframe\">\n",
       "  <thead>\n",
       "    <tr style=\"text-align: right;\">\n",
       "      <th></th>\n",
       "      <th>year:period</th>\n",
       "      <th>Value</th>\n",
       "      <th>Year</th>\n",
       "      <th>Refnis</th>\n",
       "      <th>Month</th>\n",
       "      <th>dwellings</th>\n",
       "      <th>appartments</th>\n",
       "      <th>one-dwelling buildings</th>\n",
       "      <th>surface area</th>\n",
       "      <th>Price_app</th>\n",
       "      <th>...</th>\n",
       "      <th>Sem_det_transactions</th>\n",
       "      <th>lvl_app</th>\n",
       "      <th>lvl_det</th>\n",
       "      <th>lvl_sem_det</th>\n",
       "      <th>prev_q_app_permit</th>\n",
       "      <th>prev_q_det_permit</th>\n",
       "      <th>prev_q_sem_det_permit</th>\n",
       "      <th>next_q_lvl_app</th>\n",
       "      <th>next_q_lvl_det</th>\n",
       "      <th>next_q_lvl_sem_det</th>\n",
       "    </tr>\n",
       "  </thead>\n",
       "  <tbody>\n",
       "    <tr>\n",
       "      <th>9</th>\n",
       "      <td>2012:Q2</td>\n",
       "      <td>3.330000</td>\n",
       "      <td>2012.0</td>\n",
       "      <td>6000.0</td>\n",
       "      <td>15.0</td>\n",
       "      <td>4375.0</td>\n",
       "      <td>8977.0</td>\n",
       "      <td>5134.0</td>\n",
       "      <td>3843.0</td>\n",
       "      <td>212500.0</td>\n",
       "      <td>...</td>\n",
       "      <td>8685.0</td>\n",
       "      <td>-3.409091</td>\n",
       "      <td>-1.333333</td>\n",
       "      <td>0.000000</td>\n",
       "      <td>10115.0</td>\n",
       "      <td>5385.0</td>\n",
       "      <td>5275.0</td>\n",
       "      <td>1.882353</td>\n",
       "      <td>1.351351</td>\n",
       "      <td>2.000000</td>\n",
       "    </tr>\n",
       "    <tr>\n",
       "      <th>10</th>\n",
       "      <td>2012:Q3</td>\n",
       "      <td>2.613333</td>\n",
       "      <td>2012.0</td>\n",
       "      <td>6000.0</td>\n",
       "      <td>24.0</td>\n",
       "      <td>3889.0</td>\n",
       "      <td>7546.0</td>\n",
       "      <td>4116.0</td>\n",
       "      <td>3430.0</td>\n",
       "      <td>216500.0</td>\n",
       "      <td>...</td>\n",
       "      <td>8438.0</td>\n",
       "      <td>1.882353</td>\n",
       "      <td>1.351351</td>\n",
       "      <td>2.000000</td>\n",
       "      <td>8977.0</td>\n",
       "      <td>5134.0</td>\n",
       "      <td>4375.0</td>\n",
       "      <td>1.154734</td>\n",
       "      <td>1.333333</td>\n",
       "      <td>0.000000</td>\n",
       "    </tr>\n",
       "    <tr>\n",
       "      <th>11</th>\n",
       "      <td>2012:Q4</td>\n",
       "      <td>2.276667</td>\n",
       "      <td>2012.0</td>\n",
       "      <td>6000.0</td>\n",
       "      <td>33.0</td>\n",
       "      <td>3674.0</td>\n",
       "      <td>7209.0</td>\n",
       "      <td>3990.0</td>\n",
       "      <td>3219.0</td>\n",
       "      <td>219000.0</td>\n",
       "      <td>...</td>\n",
       "      <td>8959.0</td>\n",
       "      <td>1.154734</td>\n",
       "      <td>1.333333</td>\n",
       "      <td>0.000000</td>\n",
       "      <td>7546.0</td>\n",
       "      <td>4116.0</td>\n",
       "      <td>3889.0</td>\n",
       "      <td>0.000000</td>\n",
       "      <td>-1.315789</td>\n",
       "      <td>-0.980392</td>\n",
       "    </tr>\n",
       "    <tr>\n",
       "      <th>12</th>\n",
       "      <td>2013:Q1</td>\n",
       "      <td>2.340000</td>\n",
       "      <td>2013.0</td>\n",
       "      <td>6000.0</td>\n",
       "      <td>6.0</td>\n",
       "      <td>4399.0</td>\n",
       "      <td>9120.0</td>\n",
       "      <td>5235.0</td>\n",
       "      <td>3885.0</td>\n",
       "      <td>219000.0</td>\n",
       "      <td>...</td>\n",
       "      <td>7813.0</td>\n",
       "      <td>0.000000</td>\n",
       "      <td>-1.315789</td>\n",
       "      <td>-0.980392</td>\n",
       "      <td>7209.0</td>\n",
       "      <td>3990.0</td>\n",
       "      <td>3674.0</td>\n",
       "      <td>0.456621</td>\n",
       "      <td>-0.800000</td>\n",
       "      <td>0.000000</td>\n",
       "    </tr>\n",
       "    <tr>\n",
       "      <th>13</th>\n",
       "      <td>2013:Q2</td>\n",
       "      <td>2.180000</td>\n",
       "      <td>2013.0</td>\n",
       "      <td>6000.0</td>\n",
       "      <td>15.0</td>\n",
       "      <td>4029.0</td>\n",
       "      <td>8756.0</td>\n",
       "      <td>5236.0</td>\n",
       "      <td>3520.0</td>\n",
       "      <td>220000.0</td>\n",
       "      <td>...</td>\n",
       "      <td>8358.0</td>\n",
       "      <td>0.456621</td>\n",
       "      <td>-0.800000</td>\n",
       "      <td>0.000000</td>\n",
       "      <td>9120.0</td>\n",
       "      <td>5235.0</td>\n",
       "      <td>4399.0</td>\n",
       "      <td>0.000000</td>\n",
       "      <td>2.956989</td>\n",
       "      <td>2.970297</td>\n",
       "    </tr>\n",
       "  </tbody>\n",
       "</table>\n",
       "<p>5 rows × 24 columns</p>\n",
       "</div>"
      ],
      "text/plain": [
       "   year:period     Value    Year  Refnis  Month  dwellings  appartments  \\\n",
       "9      2012:Q2  3.330000  2012.0  6000.0   15.0     4375.0       8977.0   \n",
       "10     2012:Q3  2.613333  2012.0  6000.0   24.0     3889.0       7546.0   \n",
       "11     2012:Q4  2.276667  2012.0  6000.0   33.0     3674.0       7209.0   \n",
       "12     2013:Q1  2.340000  2013.0  6000.0    6.0     4399.0       9120.0   \n",
       "13     2013:Q2  2.180000  2013.0  6000.0   15.0     4029.0       8756.0   \n",
       "\n",
       "    one-dwelling buildings  surface area  Price_app  ...  \\\n",
       "9                   5134.0        3843.0   212500.0  ...   \n",
       "10                  4116.0        3430.0   216500.0  ...   \n",
       "11                  3990.0        3219.0   219000.0  ...   \n",
       "12                  5235.0        3885.0   219000.0  ...   \n",
       "13                  5236.0        3520.0   220000.0  ...   \n",
       "\n",
       "    Sem_det_transactions   lvl_app   lvl_det  lvl_sem_det  prev_q_app_permit  \\\n",
       "9                 8685.0 -3.409091 -1.333333     0.000000            10115.0   \n",
       "10                8438.0  1.882353  1.351351     2.000000             8977.0   \n",
       "11                8959.0  1.154734  1.333333     0.000000             7546.0   \n",
       "12                7813.0  0.000000 -1.315789    -0.980392             7209.0   \n",
       "13                8358.0  0.456621 -0.800000     0.000000             9120.0   \n",
       "\n",
       "    prev_q_det_permit  prev_q_sem_det_permit  next_q_lvl_app  next_q_lvl_det  \\\n",
       "9              5385.0                 5275.0        1.882353        1.351351   \n",
       "10             5134.0                 4375.0        1.154734        1.333333   \n",
       "11             4116.0                 3889.0        0.000000       -1.315789   \n",
       "12             3990.0                 3674.0        0.456621       -0.800000   \n",
       "13             5235.0                 4399.0        0.000000        2.956989   \n",
       "\n",
       "    next_q_lvl_sem_det  \n",
       "9             2.000000  \n",
       "10            0.000000  \n",
       "11           -0.980392  \n",
       "12            0.000000  \n",
       "13            2.970297  \n",
       "\n",
       "[5 rows x 24 columns]"
      ]
     },
     "execution_count": 150,
     "metadata": {},
     "output_type": "execute_result"
    }
   ],
   "source": [
    "# Create 1 dataframe\n",
    "# Add data together\n",
    "model_data = mean_interest[[\"year:period\", \"Value\"]].merge(requests_vl,how=\"left\", on=\"year:period\")\n",
    "prices_app = prices[(prices[\"CD_TYPE_NL\"] == \"Appartementen\") & \n",
    "       (prices[\"CD_PERIOD\"].isin([\"Q1\", \"Q2\", \"Q3\", \"Q4\"])) &\n",
    "       (prices[\"CD_REFNIS_NL\"] == \"VLAAMS GEWEST\")][[\"year:period\", \"MS_P_75\", \"MS_TOTAL_TRANSACTIONS\"]].rename(columns={\"MS_P_75\":\"Price_app\", \"MS_TOTAL_TRANSACTIONS\":\"App_transactions\"})\n",
    "model_data = model_data.merge(prices_app, on=\"year:period\", how=\"left\")\n",
    "\n",
    "prices_house = prices[(prices[\"CD_TYPE_NL\"] == \"Huizen met 4 of meer gevels (open bebouwing)\") & \n",
    "       (prices[\"CD_PERIOD\"].isin([\"Q1\", \"Q2\", \"Q3\", \"Q4\"])) &\n",
    "       (prices[\"CD_REFNIS_NL\"] == \"VLAAMS GEWEST\")][[\"year:period\", \"MS_P_75\", \"MS_TOTAL_TRANSACTIONS\"]].rename(columns={\"MS_P_75\":\"Price_det\", \"MS_TOTAL_TRANSACTIONS\":\"Det_transactions\"})\n",
    "model_data = model_data.merge(prices_house, on=\"year:period\", how=\"left\")\n",
    "\n",
    "prices_sem_det = prices[(prices[\"CD_TYPE_NL\"] == \"Huizen met 2 of 3 gevels (gesloten + halfopen bebouwing)\") & \n",
    "       (prices[\"CD_PERIOD\"].isin([\"Q1\", \"Q2\", \"Q3\", \"Q4\"])) &\n",
    "       (prices[\"CD_REFNIS_NL\"] == \"VLAAMS GEWEST\")][[\"year:period\", \"MS_P_75\", \"MS_TOTAL_TRANSACTIONS\"]].rename(columns={\"MS_P_75\":\"Price_sem_det\", \"MS_TOTAL_TRANSACTIONS\":\"Sem_det_transactions\"})\n",
    "model_data = model_data.merge(prices_sem_det, on=\"year:period\", how=\"left\")\n",
    "\n",
    "# Add price level column\n",
    "model_data[\"lvl_app\"] = [None] + [calc_price_lvl(model_data[\"Price_app\"].iloc[i], model_data[\"Price_app\"].iloc[i-1]) for i in range(1, len(model_data)) ]\n",
    "model_data[\"lvl_det\"] = [None] + [calc_price_lvl(model_data[\"Price_det\"].iloc[i], model_data[\"Price_det\"].iloc[i-1]) for i in range(1, len(model_data)) ]\n",
    "model_data[\"lvl_sem_det\"] = [None] + [calc_price_lvl(model_data[\"Price_sem_det\"].iloc[i], model_data[\"Price_sem_det\"].iloc[i-1]) for i in range(1, len(model_data)) ]\n",
    "\n",
    "# Add previous quarter permit column\n",
    "model_data[\"prev_q_app_permit\"] = [None] + [model_data[\"appartments\"].iloc[i-1] for i in range(1, len(model_data)) ]\n",
    "model_data[\"prev_q_det_permit\"] = [None] + [model_data[\"one-dwelling buildings\"].iloc[i-1] for i in range(1, len(model_data)) ]\n",
    "model_data[\"prev_q_sem_det_permit\"] = [None] + [model_data[\"dwellings\"].iloc[i-1] for i in range(1, len(model_data)) ]\n",
    "\n",
    "# Add next quarter price increase/decrease column\n",
    "model_data[\"next_q_lvl_app\"] = [model_data[\"lvl_app\"].iloc[i+1] for i in range(0, len(model_data)-1)] + [None]\n",
    "model_data[\"next_q_lvl_det\"] = [model_data[\"lvl_det\"].iloc[i+1] for i in range(0, len(model_data)-1) ] + [None]\n",
    "model_data[\"next_q_lvl_sem_det\"] = [model_data[\"lvl_sem_det\"].iloc[i+1] for i in range(0, len(model_data)-1) ] + [None]\n",
    "\n",
    "model_data = model_data.dropna()\n",
    "model_data.head()"
   ]
  },
  {
   "cell_type": "code",
   "execution_count": 325,
   "metadata": {},
   "outputs": [
    {
     "data": {
      "text/html": [
       "<div>\n",
       "<style scoped>\n",
       "    .dataframe tbody tr th:only-of-type {\n",
       "        vertical-align: middle;\n",
       "    }\n",
       "\n",
       "    .dataframe tbody tr th {\n",
       "        vertical-align: top;\n",
       "    }\n",
       "\n",
       "    .dataframe thead th {\n",
       "        text-align: right;\n",
       "    }\n",
       "</style>\n",
       "<table border=\"1\" class=\"dataframe\">\n",
       "  <thead>\n",
       "    <tr style=\"text-align: right;\">\n",
       "      <th></th>\n",
       "      <th>year:period</th>\n",
       "      <th>Value</th>\n",
       "      <th>appartments</th>\n",
       "      <th>prev_q_app_permit</th>\n",
       "      <th>App_transactions</th>\n",
       "      <th>lvl_app</th>\n",
       "      <th>next_q_lvl_app</th>\n",
       "    </tr>\n",
       "  </thead>\n",
       "  <tbody>\n",
       "    <tr>\n",
       "      <th>9</th>\n",
       "      <td>2012:Q2</td>\n",
       "      <td>3.330000</td>\n",
       "      <td>8977.0</td>\n",
       "      <td>10115.0</td>\n",
       "      <td>4520.0</td>\n",
       "      <td>-3.409091</td>\n",
       "      <td>1.882353</td>\n",
       "    </tr>\n",
       "    <tr>\n",
       "      <th>10</th>\n",
       "      <td>2012:Q3</td>\n",
       "      <td>2.613333</td>\n",
       "      <td>7546.0</td>\n",
       "      <td>8977.0</td>\n",
       "      <td>4297.0</td>\n",
       "      <td>1.882353</td>\n",
       "      <td>1.154734</td>\n",
       "    </tr>\n",
       "    <tr>\n",
       "      <th>11</th>\n",
       "      <td>2012:Q4</td>\n",
       "      <td>2.276667</td>\n",
       "      <td>7209.0</td>\n",
       "      <td>7546.0</td>\n",
       "      <td>4816.0</td>\n",
       "      <td>1.154734</td>\n",
       "      <td>0.000000</td>\n",
       "    </tr>\n",
       "    <tr>\n",
       "      <th>12</th>\n",
       "      <td>2013:Q1</td>\n",
       "      <td>2.340000</td>\n",
       "      <td>9120.0</td>\n",
       "      <td>7209.0</td>\n",
       "      <td>4243.0</td>\n",
       "      <td>0.000000</td>\n",
       "      <td>0.456621</td>\n",
       "    </tr>\n",
       "    <tr>\n",
       "      <th>13</th>\n",
       "      <td>2013:Q2</td>\n",
       "      <td>2.180000</td>\n",
       "      <td>8756.0</td>\n",
       "      <td>9120.0</td>\n",
       "      <td>4567.0</td>\n",
       "      <td>0.456621</td>\n",
       "      <td>0.000000</td>\n",
       "    </tr>\n",
       "  </tbody>\n",
       "</table>\n",
       "</div>"
      ],
      "text/plain": [
       "   year:period     Value  appartments  prev_q_app_permit  App_transactions  \\\n",
       "9      2012:Q2  3.330000       8977.0            10115.0            4520.0   \n",
       "10     2012:Q3  2.613333       7546.0             8977.0            4297.0   \n",
       "11     2012:Q4  2.276667       7209.0             7546.0            4816.0   \n",
       "12     2013:Q1  2.340000       9120.0             7209.0            4243.0   \n",
       "13     2013:Q2  2.180000       8756.0             9120.0            4567.0   \n",
       "\n",
       "     lvl_app  next_q_lvl_app  \n",
       "9  -3.409091        1.882353  \n",
       "10  1.882353        1.154734  \n",
       "11  1.154734        0.000000  \n",
       "12  0.000000        0.456621  \n",
       "13  0.456621        0.000000  "
      ]
     },
     "execution_count": 325,
     "metadata": {},
     "output_type": "execute_result"
    }
   ],
   "source": [
    "# Create and save appartment dataframe\n",
    "app_df = model_data[[\"year:period\", \"Value\", \"appartments\", \"prev_q_app_permit\", \"App_transactions\", \"lvl_app\", \"next_q_lvl_app\"]]\n",
    "app_df.to_csv(\"E:/Projects/real-estate-analysis/data/app_model.csv\", index=False)\n",
    "app_df.head()"
   ]
  },
  {
   "cell_type": "markdown",
   "metadata": {},
   "source": [
    "## Building Model\n",
    "### Lasso regression"
   ]
  },
  {
   "cell_type": "code",
   "execution_count": 327,
   "metadata": {},
   "outputs": [],
   "source": [
    "# Create training and test data for appartments\n",
    "X_app = app_df.drop(columns=[\"next_q_lvl_app\", \"year:period\"])\n",
    "y_app = app_df[\"next_q_lvl_app\"]\n",
    "X_train, X_test, y_train, y_test = train_test_split(X_app, y_app, test_size=0.2, random_state=0)"
   ]
  },
  {
   "cell_type": "code",
   "execution_count": 328,
   "metadata": {},
   "outputs": [
    {
     "data": {
      "text/html": [
       "<div>\n",
       "<style scoped>\n",
       "    .dataframe tbody tr th:only-of-type {\n",
       "        vertical-align: middle;\n",
       "    }\n",
       "\n",
       "    .dataframe tbody tr th {\n",
       "        vertical-align: top;\n",
       "    }\n",
       "\n",
       "    .dataframe thead th {\n",
       "        text-align: right;\n",
       "    }\n",
       "</style>\n",
       "<table border=\"1\" class=\"dataframe\">\n",
       "  <thead>\n",
       "    <tr style=\"text-align: right;\">\n",
       "      <th></th>\n",
       "      <th>Value</th>\n",
       "      <th>appartments</th>\n",
       "      <th>prev_q_app_permit</th>\n",
       "      <th>App_transactions</th>\n",
       "      <th>lvl_app</th>\n",
       "    </tr>\n",
       "  </thead>\n",
       "  <tbody>\n",
       "    <tr>\n",
       "      <th>9</th>\n",
       "      <td>3.330000</td>\n",
       "      <td>8977.0</td>\n",
       "      <td>10115.0</td>\n",
       "      <td>4520.0</td>\n",
       "      <td>-3.409091</td>\n",
       "    </tr>\n",
       "    <tr>\n",
       "      <th>10</th>\n",
       "      <td>2.613333</td>\n",
       "      <td>7546.0</td>\n",
       "      <td>8977.0</td>\n",
       "      <td>4297.0</td>\n",
       "      <td>1.882353</td>\n",
       "    </tr>\n",
       "    <tr>\n",
       "      <th>11</th>\n",
       "      <td>2.276667</td>\n",
       "      <td>7209.0</td>\n",
       "      <td>7546.0</td>\n",
       "      <td>4816.0</td>\n",
       "      <td>1.154734</td>\n",
       "    </tr>\n",
       "    <tr>\n",
       "      <th>12</th>\n",
       "      <td>2.340000</td>\n",
       "      <td>9120.0</td>\n",
       "      <td>7209.0</td>\n",
       "      <td>4243.0</td>\n",
       "      <td>0.000000</td>\n",
       "    </tr>\n",
       "    <tr>\n",
       "      <th>13</th>\n",
       "      <td>2.180000</td>\n",
       "      <td>8756.0</td>\n",
       "      <td>9120.0</td>\n",
       "      <td>4567.0</td>\n",
       "      <td>0.456621</td>\n",
       "    </tr>\n",
       "  </tbody>\n",
       "</table>\n",
       "</div>"
      ],
      "text/plain": [
       "       Value  appartments  prev_q_app_permit  App_transactions   lvl_app\n",
       "9   3.330000       8977.0            10115.0            4520.0 -3.409091\n",
       "10  2.613333       7546.0             8977.0            4297.0  1.882353\n",
       "11  2.276667       7209.0             7546.0            4816.0  1.154734\n",
       "12  2.340000       9120.0             7209.0            4243.0  0.000000\n",
       "13  2.180000       8756.0             9120.0            4567.0  0.456621"
      ]
     },
     "execution_count": 328,
     "metadata": {},
     "output_type": "execute_result"
    }
   ],
   "source": [
    "X_app.head()"
   ]
  },
  {
   "cell_type": "code",
   "execution_count": 329,
   "metadata": {},
   "outputs": [
    {
     "data": {
      "text/plain": [
       "Lasso(alpha=0.1, normalize=True)"
      ]
     },
     "execution_count": 329,
     "metadata": {},
     "output_type": "execute_result"
    }
   ],
   "source": [
    "# Fit lasso regression model\n",
    "app_model = Lasso(alpha=0.1, normalize=True)\n",
    "app_model.fit(X_train, y_train)"
   ]
  },
  {
   "cell_type": "code",
   "execution_count": 385,
   "metadata": {},
   "outputs": [
    {
     "name": "stdout",
     "output_type": "stream",
     "text": [
      "                       0\n",
      "next_q_lvl_app          \n",
      "-5.063291      -2.539063\n",
      " 1.208333       1.881588\n",
      " 2.040816       0.463149\n",
      " 1.731602       0.565264\n",
      " 0.000000       0.888279\n",
      " 0.000000       2.180940\n",
      "-2.181818      -1.592725\n"
     ]
    },
    {
     "data": {
      "text/plain": [
       "[<matplotlib.lines.Line2D at 0x25b8f172d90>]"
      ]
     },
     "execution_count": 385,
     "metadata": {},
     "output_type": "execute_result"
    },
    {
     "data": {
      "image/png": "[encoded data removed]",
      "text/plain": [
       "<Figure size 432x288 with 1 Axes>"
      ]
     },
     "metadata": {
      "needs_background": "light"
     },
     "output_type": "display_data"
    }
   ],
   "source": [
    "# Check predictions\n",
    "y_pred = app_model.predict(X_test)\n",
    "print(pd.DataFrame(y_pred, y_test))\n",
    "plt.plot(app_model.coef_.flatten())"
   ]
  },
  {
   "cell_type": "code",
   "execution_count": 331,
   "metadata": {},
   "outputs": [
    {
     "name": "stdout",
     "output_type": "stream",
     "text": [
      "MSE: 2.366706955985734\n"
     ]
    },
    {
     "data": {
      "image/png": "[encoded data removed]",
      "text/plain": [
       "<Figure size 432x288 with 1 Axes>"
      ]
     },
     "metadata": {
      "needs_background": "light"
     },
     "output_type": "display_data"
    }
   ],
   "source": [
    "plt.scatter(y_pred, y_test, alpha=0.5)\n",
    "plt.ylim([-6, 6])\n",
    "plt.xlim([-6, 6])\n",
    "print(\"MSE: {}\".format(mean_squared_error(y_pred, y_test)))"
   ]
  },
  {
   "cell_type": "markdown",
   "metadata": {},
   "source": [
    "### Ridge regression"
   ]
  },
  {
   "cell_type": "code",
   "execution_count": 378,
   "metadata": {},
   "outputs": [
    {
     "data": {
      "text/plain": [
       "Ridge(alpha=0.6, normalize=True)"
      ]
     },
     "execution_count": 378,
     "metadata": {},
     "output_type": "execute_result"
    }
   ],
   "source": [
    "# Fit ridge regression model\n",
    "app_model_r = Ridge(alpha=0.6, normalize=True)\n",
    "app_model_r.fit(X_train, y_train)"
   ]
  },
  {
   "cell_type": "code",
   "execution_count": 384,
   "metadata": {},
   "outputs": [
    {
     "name": "stdout",
     "output_type": "stream",
     "text": [
      "                       0\n",
      "next_q_lvl_app          \n",
      "-5.063291      -3.058085\n",
      " 1.208333       1.901839\n",
      " 2.040816       0.005859\n",
      " 1.731602       0.336343\n",
      " 0.000000       1.213641\n",
      " 0.000000       1.936295\n",
      "-2.181818      -2.380184\n"
     ]
    },
    {
     "data": {
      "text/plain": [
       "[<matplotlib.lines.Line2D at 0x25b8f29cc40>]"
      ]
     },
     "execution_count": 384,
     "metadata": {},
     "output_type": "execute_result"
    },
    {
     "data": {
      "image/png": "[encoded data removed]",
      "text/plain": [
       "<Figure size 432x288 with 1 Axes>"
      ]
     },
     "metadata": {
      "needs_background": "light"
     },
     "output_type": "display_data"
    }
   ],
   "source": [
    "# Check predictions\n",
    "y_pred_r = app_model_r.predict(X_test)\n",
    "print(pd.DataFrame(y_pred_r, y_test))\n",
    "plt.plot(app_model_r.coef_.flatten())"
   ]
  },
  {
   "cell_type": "code",
   "execution_count": 380,
   "metadata": {},
   "outputs": [
    {
     "name": "stdout",
     "output_type": "stream",
     "text": [
      "MSE: 2.264444667005082\n"
     ]
    },
    {
     "data": {
      "image/png": "[encoded data removed]",
      "text/plain": [
       "<Figure size 432x288 with 1 Axes>"
      ]
     },
     "metadata": {
      "needs_background": "light"
     },
     "output_type": "display_data"
    }
   ],
   "source": [
    "plt.scatter(y_pred_r, y_test, alpha=0.5)\n",
    "plt.ylim([-6, 6])\n",
    "plt.xlim([-6, 6])\n",
    "print(\"MSE: {}\".format(mean_squared_error(y_pred_r, y_test)))"
   ]
  },
  {
   "cell_type": "markdown",
   "metadata": {},
   "source": [
    "### Decision tree"
   ]
  },
  {
   "cell_type": "code",
   "execution_count": 334,
   "metadata": {},
   "outputs": [
    {
     "data": {
      "text/plain": [
       "GridSearchCV(cv=5, estimator=DecisionTreeRegressor(max_depth=10),\n",
       "             param_grid={'max_depth': range(5, 50)})"
      ]
     },
     "execution_count": 334,
     "metadata": {},
     "output_type": "execute_result"
    }
   ],
   "source": [
    "app_dt_model = tree.DecisionTreeRegressor(max_depth=10)\n",
    "app_dt_cv_model = GridSearchCV(app_dt_model, {\"max_depth\": range(5, 50)}, cv=5)\n",
    "app_dt_model.fit(X_train, y_train)\n",
    "app_dt_cv_model.fit(X_train, y_train)"
   ]
  },
  {
   "cell_type": "code",
   "execution_count": 335,
   "metadata": {},
   "outputs": [
    {
     "data": {
      "text/html": [
       "<div>\n",
       "<style scoped>\n",
       "    .dataframe tbody tr th:only-of-type {\n",
       "        vertical-align: middle;\n",
       "    }\n",
       "\n",
       "    .dataframe tbody tr th {\n",
       "        vertical-align: top;\n",
       "    }\n",
       "\n",
       "    .dataframe thead th {\n",
       "        text-align: right;\n",
       "    }\n",
       "</style>\n",
       "<table border=\"1\" class=\"dataframe\">\n",
       "  <thead>\n",
       "    <tr style=\"text-align: right;\">\n",
       "      <th></th>\n",
       "      <th>0</th>\n",
       "    </tr>\n",
       "    <tr>\n",
       "      <th>next_q_lvl_app</th>\n",
       "      <th></th>\n",
       "    </tr>\n",
       "  </thead>\n",
       "  <tbody>\n",
       "    <tr>\n",
       "      <th>-5.063291</th>\n",
       "      <td>-2.127660</td>\n",
       "    </tr>\n",
       "    <tr>\n",
       "      <th>1.208333</th>\n",
       "      <td>0.456621</td>\n",
       "    </tr>\n",
       "    <tr>\n",
       "      <th>2.040816</th>\n",
       "      <td>1.882353</td>\n",
       "    </tr>\n",
       "    <tr>\n",
       "      <th>1.731602</th>\n",
       "      <td>1.154734</td>\n",
       "    </tr>\n",
       "    <tr>\n",
       "      <th>0.000000</th>\n",
       "      <td>2.083375</td>\n",
       "    </tr>\n",
       "    <tr>\n",
       "      <th>0.000000</th>\n",
       "      <td>0.000000</td>\n",
       "    </tr>\n",
       "    <tr>\n",
       "      <th>-2.181818</th>\n",
       "      <td>-2.127660</td>\n",
       "    </tr>\n",
       "  </tbody>\n",
       "</table>\n",
       "</div>"
      ],
      "text/plain": [
       "                       0\n",
       "next_q_lvl_app          \n",
       "-5.063291      -2.127660\n",
       " 1.208333       0.456621\n",
       " 2.040816       1.882353\n",
       " 1.731602       1.154734\n",
       " 0.000000       2.083375\n",
       " 0.000000       0.000000\n",
       "-2.181818      -2.127660"
      ]
     },
     "execution_count": 335,
     "metadata": {},
     "output_type": "execute_result"
    }
   ],
   "source": [
    "y_dt_pred = app_dt_model.predict(X_test)\n",
    "pd.DataFrame(y_dt_pred, y_test)"
   ]
  },
  {
   "cell_type": "code",
   "execution_count": 336,
   "metadata": {},
   "outputs": [
    {
     "data": {
      "text/html": [
       "<div>\n",
       "<style scoped>\n",
       "    .dataframe tbody tr th:only-of-type {\n",
       "        vertical-align: middle;\n",
       "    }\n",
       "\n",
       "    .dataframe tbody tr th {\n",
       "        vertical-align: top;\n",
       "    }\n",
       "\n",
       "    .dataframe thead th {\n",
       "        text-align: right;\n",
       "    }\n",
       "</style>\n",
       "<table border=\"1\" class=\"dataframe\">\n",
       "  <thead>\n",
       "    <tr style=\"text-align: right;\">\n",
       "      <th></th>\n",
       "      <th>0</th>\n",
       "    </tr>\n",
       "    <tr>\n",
       "      <th>next_q_lvl_app</th>\n",
       "      <th></th>\n",
       "    </tr>\n",
       "  </thead>\n",
       "  <tbody>\n",
       "    <tr>\n",
       "      <th>-5.063291</th>\n",
       "      <td>-2.127660</td>\n",
       "    </tr>\n",
       "    <tr>\n",
       "      <th>1.208333</th>\n",
       "      <td>1.523448</td>\n",
       "    </tr>\n",
       "    <tr>\n",
       "      <th>2.040816</th>\n",
       "      <td>1.523448</td>\n",
       "    </tr>\n",
       "    <tr>\n",
       "      <th>1.731602</th>\n",
       "      <td>1.523448</td>\n",
       "    </tr>\n",
       "    <tr>\n",
       "      <th>0.000000</th>\n",
       "      <td>1.523448</td>\n",
       "    </tr>\n",
       "    <tr>\n",
       "      <th>0.000000</th>\n",
       "      <td>0.114484</td>\n",
       "    </tr>\n",
       "    <tr>\n",
       "      <th>-2.181818</th>\n",
       "      <td>-2.127660</td>\n",
       "    </tr>\n",
       "  </tbody>\n",
       "</table>\n",
       "</div>"
      ],
      "text/plain": [
       "                       0\n",
       "next_q_lvl_app          \n",
       "-5.063291      -2.127660\n",
       " 1.208333       1.523448\n",
       " 2.040816       1.523448\n",
       " 1.731602       1.523448\n",
       " 0.000000       1.523448\n",
       " 0.000000       0.114484\n",
       "-2.181818      -2.127660"
      ]
     },
     "execution_count": 336,
     "metadata": {},
     "output_type": "execute_result"
    }
   ],
   "source": [
    "y_dt_cv_pred = app_dt_cv_model.predict(X_test)\n",
    "pd.DataFrame(y_dt_cv_pred, y_test)"
   ]
  },
  {
   "cell_type": "code",
   "execution_count": 337,
   "metadata": {},
   "outputs": [
    {
     "name": "stdout",
     "output_type": "stream",
     "text": [
      "MSE: 1.6235944134846978\n"
     ]
    },
    {
     "data": {
      "image/png": "[encoded data removed]",
      "text/plain": [
       "<Figure size 432x288 with 1 Axes>"
      ]
     },
     "metadata": {
      "needs_background": "light"
     },
     "output_type": "display_data"
    }
   ],
   "source": [
    "plt.scatter(y_dt_cv_pred, y_test, alpha=0.5)\n",
    "plt.ylim([-6, 6])\n",
    "plt.xlim([-6, 6])\n",
    "print(\"MSE: {}\".format(mean_squared_error(y_dt_cv_pred, y_test)))"
   ]
  },
  {
   "cell_type": "markdown",
   "metadata": {},
   "source": [
    "### Combine decision tree and regression"
   ]
  },
  {
   "cell_type": "code",
   "execution_count": 338,
   "metadata": {},
   "outputs": [
    {
     "name": "stdout",
     "output_type": "stream",
     "text": [
      "MSE: 1.734447039813029\n"
     ]
    },
    {
     "data": {
      "image/png": "[encoded data removed]",
      "text/plain": [
       "<Figure size 432x288 with 1 Axes>"
      ]
     },
     "metadata": {
      "needs_background": "light"
     },
     "output_type": "display_data"
    }
   ],
   "source": [
    "y_comb_pred = (y_pred + y_dt_cv_pred) / 2\n",
    "plt.scatter(y_comb_pred, y_test, alpha=0.5)\n",
    "plt.ylim([-6, 6])\n",
    "plt.xlim([-6, 6])\n",
    "print(\"MSE: {}\".format(mean_squared_error(y_comb_pred, y_test)))"
   ]
  },
  {
   "cell_type": "markdown",
   "metadata": {},
   "source": [
    "## Export model"
   ]
  },
  {
   "cell_type": "code",
   "execution_count": 381,
   "metadata": {},
   "outputs": [],
   "source": [
    "pkl_reg = \"E:/Projects/real-estate-analysis/models/lasso_reg_app.pkl\"\n",
    "pkl_reg_r = \"E:/Projects/real-estate-analysis/models/ridge_reg_app.pkl\"\n",
    "pkl_dt = \"E:/Projects/real-estate-analysis/models/decision_tree_app.pkl\"\n",
    "\n",
    "with open(pkl_reg, \"wb\") as file:\n",
    "    pickle.dump(app_model, file)\n",
    "    \n",
    "with open(pkl_dt, \"wb\") as file:\n",
    "    pickle.dump(app_dt_cv_model, file)\n",
    "with open(pkl_reg_r, \"wb\") as file:\n",
    "    pickle.dump(app_model_r, file)"
   ]
  }
 ],
 "metadata": {
  "kernelspec": {
   "display_name": "Python 3 (ipykernel)",
   "language": "python",
   "name": "python3"
  },
  "language_info": {
   "codemirror_mode": {
    "name": "ipython",
    "version": 3
   },
   "file_extension": ".py",
   "mimetype": "text/x-python",
   "name": "python",
   "nbconvert_exporter": "python",
   "pygments_lexer": "ipython3",
   "version": "3.8.5"
  }
 },
 "nbformat": 4,
 "nbformat_minor": 4
}
